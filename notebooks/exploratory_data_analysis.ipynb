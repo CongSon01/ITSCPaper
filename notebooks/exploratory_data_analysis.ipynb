{
 "cells": [
  {
   "cell_type": "markdown",
   "metadata": {},
   "source": [
    "# Exploratory Data Analysis (EDA)\n",
    "\n",
    "This notebook contains exploratory data analysis for the two datasets:\n",
    "1. Power Combined Dataset\n",
    "2. HPC Kernel Events Dataset\n",
    "\n",
    "We'll analyze the datasets separately and then look at potential ways to combine their features."
   ]
  }
 ],
 "metadata": {
  "language_info": {
   "name": "python"
  }
 },
 "nbformat": 4,
 "nbformat_minor": 5
}
